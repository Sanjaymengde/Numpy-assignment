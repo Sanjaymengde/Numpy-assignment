{
 "cells": [
  {
   "cell_type": "code",
   "execution_count": 1,
   "id": "d2e0a96a-140d-437c-aa35-5d8e9ac9f5d9",
   "metadata": {},
   "outputs": [],
   "source": [
    "import numpy as np"
   ]
  },
  {
   "cell_type": "code",
   "execution_count": 3,
   "id": "4ffa89d0-af9a-4ad3-b76b-f12651bcc6b1",
   "metadata": {},
   "outputs": [],
   "source": [
    "list_ = ['1','2','3','4','5']"
   ]
  },
  {
   "cell_type": "code",
   "execution_count": 4,
   "id": "6b339676-a2d4-447e-a808-897a49c0c6ff",
   "metadata": {},
   "outputs": [],
   "source": [
    "array_list = np.array(object = list_)"
   ]
  },
  {
   "cell_type": "markdown",
   "id": "52000d8f-3410-458a-9066-373739aef239",
   "metadata": {},
   "source": [
    "Q1. Is there any difference in the data type of variables list_ and array_list? If there is then write a code\n",
    "to print the data types of both the variables."
   ]
  },
  {
   "cell_type": "code",
   "execution_count": 5,
   "id": "955cf2bf-d9be-4d4e-b56d-f409acc1eb40",
   "metadata": {},
   "outputs": [
    {
     "data": {
      "text/plain": [
       "array(['1', '2', '3', '4', '5'], dtype='<U1')"
      ]
     },
     "execution_count": 5,
     "metadata": {},
     "output_type": "execute_result"
    }
   ],
   "source": [
    "array_list"
   ]
  },
  {
   "cell_type": "code",
   "execution_count": 8,
   "id": "1c43e31e-20ce-4f79-8192-1e9ca1d0cd95",
   "metadata": {},
   "outputs": [
    {
     "data": {
      "text/plain": [
       "dtype('<U1')"
      ]
     },
     "execution_count": 8,
     "metadata": {},
     "output_type": "execute_result"
    }
   ],
   "source": [
    "array_list.dtype"
   ]
  },
  {
   "cell_type": "code",
   "execution_count": 9,
   "id": "4d74bff1-2cd5-4cb4-8e3f-becf5af71775",
   "metadata": {},
   "outputs": [],
   "source": [
    "variables_list= np.array(object = list_)"
   ]
  },
  {
   "cell_type": "code",
   "execution_count": 10,
   "id": "98138238-02b4-497d-bc6b-806f0c604003",
   "metadata": {},
   "outputs": [
    {
     "data": {
      "text/plain": [
       "array(['1', '2', '3', '4', '5'], dtype='<U1')"
      ]
     },
     "execution_count": 10,
     "metadata": {},
     "output_type": "execute_result"
    }
   ],
   "source": [
    "variables_list"
   ]
  },
  {
   "cell_type": "code",
   "execution_count": 11,
   "id": "5e5d026a-e1b4-4396-87f8-db95cb57352d",
   "metadata": {},
   "outputs": [
    {
     "data": {
      "text/plain": [
       "dtype('<U1')"
      ]
     },
     "execution_count": 11,
     "metadata": {},
     "output_type": "execute_result"
    }
   ],
   "source": [
    "variables_list.dtype"
   ]
  },
  {
   "cell_type": "markdown",
   "id": "9b0a677d-3c27-474d-9dda-2b84d1d8417d",
   "metadata": {},
   "source": [
    "there is no differene between variables list_ and array_list"
   ]
  },
  {
   "cell_type": "markdown",
   "id": "7832d6ef-2312-4cc6-bf94-85b44deb96b0",
   "metadata": {},
   "source": [
    "Q2. Write a code to print the data type of each and every element of both the variables list_ and\n",
    "arra_list."
   ]
  },
  {
   "cell_type": "code",
   "execution_count": 12,
   "id": "21aefb14-a441-4e0b-9bf8-a2170a55ac01",
   "metadata": {},
   "outputs": [],
   "source": [
    "list_var = [1, 2, 3, 4, 5]"
   ]
  },
  {
   "cell_type": "code",
   "execution_count": 13,
   "id": "4226c4a2-e8f3-4676-acca-9f0a23d98c65",
   "metadata": {},
   "outputs": [],
   "source": [
    "array_var = np.array([1.1, 2.2, 3.3, 4.4, 5.5])"
   ]
  },
  {
   "cell_type": "code",
   "execution_count": 14,
   "id": "4f30e93f-3b08-4209-8242-2a16216e583c",
   "metadata": {},
   "outputs": [
    {
     "name": "stdout",
     "output_type": "stream",
     "text": [
      "Data type of 1: <class 'int'>\n",
      "Data type of 2: <class 'int'>\n",
      "Data type of 3: <class 'int'>\n",
      "Data type of 4: <class 'int'>\n",
      "Data type of 5: <class 'int'>\n"
     ]
    }
   ],
   "source": [
    "for element in list_var:\n",
    "    print(f\"Data type of {element}: {type(element)}\")"
   ]
  },
  {
   "cell_type": "code",
   "execution_count": 16,
   "id": "dfa0e4c2-6fbe-4415-8a10-5ca0669c4619",
   "metadata": {},
   "outputs": [
    {
     "name": "stdout",
     "output_type": "stream",
     "text": [
      "Data type of 1.1: <class 'numpy.float64'>\n",
      "Data type of 2.2: <class 'numpy.float64'>\n",
      "Data type of 3.3: <class 'numpy.float64'>\n",
      "Data type of 4.4: <class 'numpy.float64'>\n",
      "Data type of 5.5: <class 'numpy.float64'>\n"
     ]
    }
   ],
   "source": [
    "for element in array_var:\n",
    "    print(f\"Data type of {element}: {type(element)}\")"
   ]
  },
  {
   "cell_type": "markdown",
   "id": "d41972c5-29c2-40bf-9f56-bc70c1c0efd1",
   "metadata": {},
   "source": [
    "Q4. Write a code to find the following characteristics of variable, num_array:\n",
    "(i) shape\n",
    "(ii) size"
   ]
  },
  {
   "cell_type": "code",
   "execution_count": 18,
   "id": "7f8717aa-60fc-4a1e-8f1a-dee7ce1a0154",
   "metadata": {},
   "outputs": [],
   "source": [
    "a=[1,2,3,4,5,6]"
   ]
  },
  {
   "cell_type": "code",
   "execution_count": 19,
   "id": "6eb00be1-4275-46b3-bc00-532958812b71",
   "metadata": {},
   "outputs": [],
   "source": [
    "num_array=np.array(a)"
   ]
  },
  {
   "cell_type": "code",
   "execution_count": 20,
   "id": "ada9c79b-2884-461a-b5f6-aa0f8eb8afea",
   "metadata": {},
   "outputs": [
    {
     "data": {
      "text/plain": [
       "array([1, 2, 3, 4, 5, 6])"
      ]
     },
     "execution_count": 20,
     "metadata": {},
     "output_type": "execute_result"
    }
   ],
   "source": [
    "num_array"
   ]
  },
  {
   "cell_type": "code",
   "execution_count": 21,
   "id": "aed156f7-1931-44dd-b0b1-ce2238275595",
   "metadata": {},
   "outputs": [
    {
     "data": {
      "text/plain": [
       "(6,)"
      ]
     },
     "execution_count": 21,
     "metadata": {},
     "output_type": "execute_result"
    }
   ],
   "source": [
    "num_array.shape"
   ]
  },
  {
   "cell_type": "code",
   "execution_count": 22,
   "id": "55d39935-7e2a-41e2-9ff0-4868cd17295a",
   "metadata": {},
   "outputs": [
    {
     "data": {
      "text/plain": [
       "6"
      ]
     },
     "execution_count": 22,
     "metadata": {},
     "output_type": "execute_result"
    }
   ],
   "source": [
    "num_array.size"
   ]
  },
  {
   "cell_type": "markdown",
   "id": "c5e41d2b-8267-430e-9443-a1560419225b",
   "metadata": {},
   "source": [
    "Q5. Write a code to create numpy array of 3*3 matrix containing zeros only, using a numpy array\n",
    "creation function."
   ]
  },
  {
   "cell_type": "code",
   "execution_count": 23,
   "id": "db7d537b-51f3-4272-b066-a472c1008aa8",
   "metadata": {},
   "outputs": [
    {
     "data": {
      "text/plain": [
       "array([[0., 0., 0.],\n",
       "       [0., 0., 0.],\n",
       "       [0., 0., 0.]])"
      ]
     },
     "execution_count": 23,
     "metadata": {},
     "output_type": "execute_result"
    }
   ],
   "source": [
    "np.zeros((3,3))"
   ]
  },
  {
   "cell_type": "markdown",
   "id": "73c0d415-e393-4233-95b7-0506f3894090",
   "metadata": {},
   "source": [
    "Q6. Create an identity matrix of shape (5,5) using numpy functions?\n",
    "[Hint: An identity matrix is a matrix containing 1 diagonally and other elements will be 0.]"
   ]
  },
  {
   "cell_type": "code",
   "execution_count": 24,
   "id": "121cda83-69cc-4e73-b955-bc0db580e8c1",
   "metadata": {},
   "outputs": [
    {
     "data": {
      "text/plain": [
       "array([[1., 0., 0., 0., 0.],\n",
       "       [0., 1., 0., 0., 0.],\n",
       "       [0., 0., 1., 0., 0.],\n",
       "       [0., 0., 0., 1., 0.],\n",
       "       [0., 0., 0., 0., 1.]])"
      ]
     },
     "execution_count": 24,
     "metadata": {},
     "output_type": "execute_result"
    }
   ],
   "source": [
    "np.eye(5)"
   ]
  },
  {
   "cell_type": "code",
   "execution_count": null,
   "id": "76f18900-1135-429b-88a6-802941ab75e8",
   "metadata": {},
   "outputs": [],
   "source": []
  }
 ],
 "metadata": {
  "kernelspec": {
   "display_name": "Python 3 (ipykernel)",
   "language": "python",
   "name": "python3"
  },
  "language_info": {
   "codemirror_mode": {
    "name": "ipython",
    "version": 3
   },
   "file_extension": ".py",
   "mimetype": "text/x-python",
   "name": "python",
   "nbconvert_exporter": "python",
   "pygments_lexer": "ipython3",
   "version": "3.10.8"
  }
 },
 "nbformat": 4,
 "nbformat_minor": 5
}
